{
 "cells": [
  {
   "cell_type": "code",
   "execution_count": 2,
   "metadata": {},
   "outputs": [],
   "source": [
    "import pandas as pd"
   ]
  },
  {
   "cell_type": "code",
   "execution_count": 3,
   "metadata": {},
   "outputs": [],
   "source": [
    "def to_postgres(st, df, path=\"C://\"):\n",
    "    \n",
    "    res = \"drop table if exists \" + st + \";\\ncreate table \" + st + \" (\"\n",
    "    for col,typ in zip(df.columns,df.dtypes): \n",
    "        if str(typ) == 'object':\n",
    "            typ = \"varchar\"\n",
    "        elif str(typ) == \"int64\":\n",
    "            typ = \"int\"\n",
    "        elif str(typ) == \"float64\":\n",
    "            typ = \"float8\"\n",
    "            \n",
    "        #.replace(\" \",\"\").replace(\"/\",\"\").replace(\"(\",\"\").replace(\")\",\"\").replace(\"%\",\"\")\n",
    "        res = res + \"\\\"\" + col + \"\\\" \" + str(typ) + \", \"\n",
    "    return res[:-2] + \");\\ncopy \" + st + \" from \\'\" + path + \"\\' csv header;\\nselect * from \" + st + \";\"\n",
    "#print(to_postgres(\"\", df))"
   ]
  },
  {
   "cell_type": "code",
   "execution_count": 18,
   "metadata": {},
   "outputs": [
    {
     "name": "stdout",
     "output_type": "stream",
     "text": [
      "drop table if exists players;\n",
      "create table players (\"Season\" varchar, \"Race\" varchar, \"Percent\" varchar, \"Count\" int);\n",
      "copy players from 'C://temp/nba_players.csv' csv header;\n",
      "select * from players;\n",
      "\n",
      "\n",
      "drop table if exists coaches;\n",
      "create table coaches (\"Season\" varchar, \"Race\" varchar, \"Percent\" varchar, \"Count\" int, \"Unnamed: 4\" float8, \"Unnamed: 5\" float8, \"Unnamed: 6\" float8, \"Unnamed: 7\" float8, \"Unnamed: 8\" float8, \"Unnamed: 9\" float8);\n",
      "copy coaches from 'C://temp/nba_coaches.csv' csv header;\n",
      "select * from coaches;\n",
      "\n",
      "\n",
      "drop table if exists team_management;\n",
      "create table team_management (\"Season\" varchar, \"Race\" varchar, \"Percent\" varchar, \"Count\" varchar);\n",
      "copy team_management from 'C://temp/nba_team_management.csv' csv header;\n",
      "select * from team_management;\n",
      "\n",
      "\n",
      "drop table if exists owners;\n",
      "create table owners (\"Season\" varchar, \"Race\" varchar, \"Percent\" varchar, \"Count\" int, \"Unnamed: 4\" float8, \"Unnamed: 5\" float8, \"Unnamed: 6\" float8, \"Unnamed: 7\" float8, \"Unnamed: 8\" float8, \"Unnamed: 9\" float8);\n",
      "copy owners from 'C://temp/nba_owners.csv' csv header;\n",
      "select * from owners;\n",
      "\n",
      "\n",
      "drop table if exists assistant_coaches;\n",
      "create table assistant_coaches (\"Season\" varchar, \"Race\" varchar, \"Percent\" varchar, \"Count\" int, \"Unnamed: 4\" float8, \"Unnamed: 5\" float8, \"Unnamed: 6\" float8, \"Unnamed: 7\" float8);\n",
      "copy assistant_coaches from 'C://temp/nba_assistant_coaches.csv' csv header;\n",
      "select * from assistant_coaches;\n",
      "\n",
      "\n",
      "drop table if exists league_office;\n",
      "create table league_office (\"Season\" varchar, \"Race\" varchar, \"Percent\" varchar, \"Count\" int, \"Unnamed: 4\" float8, \"Unnamed: 5\" float8);\n",
      "copy league_office from 'C://temp/nba_league_office.csv' csv header;\n",
      "select * from league_office;\n",
      "\n",
      "\n",
      "drop table if exists ceo_pres;\n",
      "create table ceo_pres (\"Season\" varchar, \"Race\" varchar, \"Percent\" varchar, \"Count\" int, \"Unnamed: 4\" float8, \"Unnamed: 5\" float8, \"Unnamed: 6\" float8, \"Unnamed: 7\" float8, \"Unnamed: 8\" float8, \"Unnamed: 9\" float8);\n",
      "copy ceo_pres from 'C://temp/nba_ceo_pres.csv' csv header;\n",
      "select * from ceo_pres;\n",
      "\n",
      "\n",
      "drop table if exists gm;\n",
      "create table gm (\"Season\" varchar, \"Race\" varchar, \"Percent\" varchar, \"Count\" int);\n",
      "copy gm from 'C://temp/nba_gm.csv' csv header;\n",
      "select * from gm;\n",
      "\n",
      "\n",
      "drop table if exists vp;\n",
      "create table vp (\"Season\" varchar, \"Race\" varchar, \"Percent\" varchar, \"Count\" float8);\n",
      "copy vp from 'C://temp/nba_vp.csv' csv header;\n",
      "select * from vp;\n",
      "\n",
      "\n",
      "drop table if exists coaches_list;\n",
      "create table coaches_list (\"Coach\" varchar, \"Team\" varchar, \"Year(s)\" varchar, \"Record\" varchar, \"Unnamed: 4\" varchar, \"Unnamed: 5\" varchar);\n",
      "copy coaches_list from 'C://temp/nba_coaches_list.csv' csv header;\n",
      "select * from coaches_list;\n",
      "\n",
      "\n",
      "drop table if exists staff;\n",
      "create table staff (\"Season\" varchar, \"Race\" varchar, \"Percent\" varchar, \"Count\" varchar);\n",
      "copy staff from 'C://temp/nba_staff.csv' csv header;\n",
      "select * from staff;\n",
      "\n",
      "\n"
     ]
    }
   ],
   "source": [
    "for f in ['players','coaches','team_management','owners','assistant_coaches','league_office','ceo_pres','gm','vp','coaches_list','staff']:\n",
    "    df = pd.read_csv(f\"nba_{f}.csv\")\n",
    "    print(to_postgres(f,df,path=f\"C://temp/nba_{f}.csv\"))\n",
    "    #print(f\"nba_{f}.csv\")\n",
    "    print(\"\\n\")"
   ]
  },
  {
   "cell_type": "code",
   "execution_count": 23,
   "metadata": {},
   "outputs": [
    {
     "name": "stdout",
     "output_type": "stream",
     "text": [
      "drop table if exists coaches;\n",
      "create table coaches (\"Season\" varchar, \"Race\" varchar, \"Percent\" varchar, \"Count\" int, \"Unnamed: 4\" float8, \"Unnamed: 5\" float8, \"Unnamed: 6\" float8, \"Unnamed: 7\" float8, \"Unnamed: 8\" float8, \"Unnamed: 9\" float8);\n",
      "copy coaches from 'C://temp/nba_coaches.csv' csv header;\n",
      "select * from coaches;\n"
     ]
    },
    {
     "data": {
      "text/plain": [
       "<bound method DataFrame.info of         Season                   Race Percent  Count  Unnamed: 4  Unnamed: 5  \\\n",
       "0    2018-2019                  White  66.70%     20         NaN         NaN   \n",
       "1    2018-2019       African-American  26.70%      8         NaN         NaN   \n",
       "2    2018-2019                  Asian   3.30%      1         NaN         NaN   \n",
       "3    2018-2019                 Latino   3.30%      1         NaN         NaN   \n",
       "4    2018-2019                  Other   0.00%      0         NaN         NaN   \n",
       "..         ...                    ...     ...    ...         ...         ...   \n",
       "203  1992-1993                 Latino   0.00%      0         NaN         NaN   \n",
       "204  1992-1993                  Other   0.00%      0         NaN         NaN   \n",
       "205  1992-1993  Total People of Color  25.90%      7         NaN         NaN   \n",
       "206  1992-1993                  Women   0.00%      0         NaN         NaN   \n",
       "207  1992-1993                  Total     NaN     27         NaN         NaN   \n",
       "\n",
       "     Unnamed: 6  Unnamed: 7  Unnamed: 8  Unnamed: 9  \n",
       "0           NaN         NaN         NaN         NaN  \n",
       "1           NaN         NaN         NaN         NaN  \n",
       "2           NaN         NaN         NaN         NaN  \n",
       "3           NaN         NaN         NaN         NaN  \n",
       "4           NaN         NaN         NaN         NaN  \n",
       "..          ...         ...         ...         ...  \n",
       "203         NaN         NaN         NaN         NaN  \n",
       "204         NaN         NaN         NaN         NaN  \n",
       "205         NaN         NaN         NaN         NaN  \n",
       "206         NaN         NaN         NaN         NaN  \n",
       "207         NaN         NaN         NaN         NaN  \n",
       "\n",
       "[208 rows x 10 columns]>"
      ]
     },
     "execution_count": 23,
     "metadata": {},
     "output_type": "execute_result"
    }
   ],
   "source": [
    "f = 'coaches'\n",
    "df = pd.read_csv(f\"nba_{f}.csv\")\n",
    "print(to_postgres(f,df,path=f\"C://temp/nba_{f}.csv\"))\n",
    "df.info"
   ]
  },
  {
   "cell_type": "code",
   "execution_count": null,
   "metadata": {},
   "outputs": [],
   "source": []
  }
 ],
 "metadata": {
  "kernelspec": {
   "display_name": "Python 3",
   "language": "python",
   "name": "python3"
  },
  "language_info": {
   "codemirror_mode": {
    "name": "ipython",
    "version": 3
   },
   "file_extension": ".py",
   "mimetype": "text/x-python",
   "name": "python",
   "nbconvert_exporter": "python",
   "pygments_lexer": "ipython3",
   "version": "3.7.6"
  }
 },
 "nbformat": 4,
 "nbformat_minor": 4
}
