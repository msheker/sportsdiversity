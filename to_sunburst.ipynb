{
 "cells": [
  {
   "cell_type": "code",
   "execution_count": 1,
   "metadata": {},
   "outputs": [],
   "source": [
    "import pandas as pd"
   ]
  },
  {
   "cell_type": "code",
   "execution_count": 9,
   "metadata": {},
   "outputs": [
    {
     "name": "stdout",
     "output_type": "stream",
     "text": [
      "      Season              Race Percent  Count\n",
      "0  2018-2019             White  57.50%     96\n",
      "1  2018-2019  African-American  37.10%     62\n",
      "2  2018-2019            Latino   3.00%      5\n",
      "3  2018-2019             Asian   0.60%      1\n",
      "4  2018-2019             Other   1.80%      3\n"
     ]
    }
   ],
   "source": [
    "s2019 = dict()\n",
    "with open(\"db_list\") as db_list:\n",
    "    for r in db_list:\n",
    "        df = pd.read_csv(r.strip())\n",
    "        print(df.head())\n",
    "        break"
   ]
  },
  {
   "cell_type": "code",
   "execution_count": null,
   "metadata": {},
   "outputs": [],
   "source": []
  }
 ],
 "metadata": {
  "kernelspec": {
   "display_name": "Python 3",
   "language": "python",
   "name": "python3"
  },
  "language_info": {
   "codemirror_mode": {
    "name": "ipython",
    "version": 3
   },
   "file_extension": ".py",
   "mimetype": "text/x-python",
   "name": "python",
   "nbconvert_exporter": "python",
   "pygments_lexer": "ipython3",
   "version": "3.7.6"
  }
 },
 "nbformat": 4,
 "nbformat_minor": 4
}
