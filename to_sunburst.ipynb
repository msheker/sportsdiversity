{
 "cells": [
  {
   "cell_type": "code",
   "execution_count": 1,
   "metadata": {},
   "outputs": [],
   "source": [
    "import pandas as pd"
   ]
  },
  {
   "cell_type": "code",
   "execution_count": 2,
   "metadata": {},
   "outputs": [],
   "source": [
    "data = dict()\n",
    "with open(\"db_list\") as db_list:\n",
    "    for r in db_list:\n",
    "        df = pd.read_csv(r.strip())\n",
    "\n",
    "        for i,d in df.iterrows():            \n",
    "            #check for null\n",
    "            if d[\"Count\"] == -1:\n",
    "                break\n",
    "            #skip women\n",
    "            if d[\"Race\"] == \"Women\":\n",
    "                continue\n",
    "            if (d[\"Race\"])[0].upper() == \"P\":\n",
    "                continue\n",
    "                \n",
    "            #check if exists\n",
    "            if d[\"Season\"] in data:\n",
    "                #check if exists\n",
    "                if d[\"Race\"] in data[d[\"Season\"]]:\n",
    "                    data[d[\"Season\"]][d[\"Race\"]][r[4:-5]] = d[\"Count\"]\n",
    "                else: \n",
    "                    data[d[\"Season\"]][d[\"Race\"]] = dict()\n",
    "                    data[d[\"Season\"]][d[\"Race\"]][r[4:-5]] = d[\"Count\"]\n",
    "            #add new\n",
    "            else:\n",
    "                data[d[\"Season\"]] = dict()\n",
    "                data[d[\"Season\"]][d[\"Race\"]] = dict()\n",
    "                data[d[\"Season\"]][d[\"Race\"]][r[4:-5]] = d[\"Count\"]\n",
    "\n",
    "for year in data:\n",
    "    results = dict()\n",
    "    results[0]=[]\n",
    "    results[1]=[]\n",
    "    \n",
    "    for race in data[year]:\n",
    "        if race == \"Total\":\n",
    "            continue\n",
    "            \n",
    "        for job in data[year][race]:\n",
    "            if type(data[year][race][job]) == str:\n",
    "                tmp = int(data[year][race][job].replace(\",\",\"\"))\n",
    "            else:\n",
    "                tmp = int(data[year][race][job])\n",
    "            \n",
    "            results[0].append(f\"{race.replace('-','')}-{job}\")\n",
    "            results[1].append(data[year][race][job])\n",
    "    \n",
    "    pd.DataFrame(results).to_csv(f\"sunburst_{year.split('-')[1]}.csv\",header=False,index=False)\n"
   ]
  },
  {
   "cell_type": "code",
   "execution_count": null,
   "metadata": {},
   "outputs": [],
   "source": []
  }
 ],
 "metadata": {
  "kernelspec": {
   "display_name": "Python 3",
   "language": "python",
   "name": "python3"
  },
  "language_info": {
   "codemirror_mode": {
    "name": "ipython",
    "version": 3
   },
   "file_extension": ".py",
   "mimetype": "text/x-python",
   "name": "python",
   "nbconvert_exporter": "python",
   "pygments_lexer": "ipython3",
   "version": "3.7.6"
  }
 },
 "nbformat": 4,
 "nbformat_minor": 4
}
